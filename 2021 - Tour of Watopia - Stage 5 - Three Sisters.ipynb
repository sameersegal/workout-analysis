{
 "cells": [
  {
   "cell_type": "markdown",
   "id": "critical-relevance",
   "metadata": {},
   "source": [
    "# Comparing Race Plan vs Actual\n",
    "\n",
    "Very recently I started printing a race plan and using it for Group Rides on Zwift. On my simple / dumb trainer (which doesn't change according to in-app gradients), I get caught by surprise and constantly lose my pack when the gradient changes. Also, I wasn't able to pace myself during the race. I would push as hard for as long as I could and then drop many places when I would feel dejected.\n",
    "\n",
    "I had a great race yesterday. Achieved quite a few peaks -- All Time Power for 10, 60 and 90mins and recorded a new Heart Rate threshold. However, I did feel there were times in the race where I dropped a little too much. I want to analyse those moments and see what I could have done better."
   ]
  },
  {
   "cell_type": "code",
   "execution_count": 1,
   "id": "genuine-rehabilitation",
   "metadata": {},
   "outputs": [],
   "source": [
    "import numpy as np\n",
    "import pandas as pd\n",
    "import matplotlib.pyplot as plt\n",
    "%matplotlib inline\n",
    "plt.rcParams['figure.figsize'] = [11, 6]\n",
    "\n",
    "import fitparse"
   ]
  },
  {
   "cell_type": "code",
   "execution_count": 2,
   "id": "deluxe-sigma",
   "metadata": {},
   "outputs": [],
   "source": [
    "def parseFitFile(file_path):\n",
    "    \n",
    "    fitfile = fitparse.FitFile(file_path)\n",
    "    \n",
    "    series = []\n",
    "    \n",
    "    for record in fitfile.get_messages(\"record\"):\n",
    "\n",
    "        row = {\n",
    "            'altitude': np.NAN,\n",
    "            'cadence': np.NAN,\n",
    "            'distance': np.NAN,\n",
    "            'heart_rate': np.NAN,\n",
    "            'power': np.NAN,\n",
    "            'speed': np.NAN,\n",
    "            'timestamp': np.NAN\n",
    "        }\n",
    "        for data in record:\n",
    "            if data.name in ['altitude','cadence','distance','heart_rate','power','speed','timestamp'] and data.value:\n",
    "                row[data.name] = data.value\n",
    "\n",
    "        if row['timestamp']:\n",
    "            series += [row]\n",
    "            \n",
    "    df = pd.DataFrame(series)\n",
    "#     df = df.set_index('timestamp')\n",
    "    \n",
    "    return df"
   ]
  },
  {
   "cell_type": "markdown",
   "id": "infrared-corporation",
   "metadata": {},
   "source": [
    "### Importing Ride Data"
   ]
  },
  {
   "cell_type": "code",
   "execution_count": 3,
   "id": "right-assist",
   "metadata": {},
   "outputs": [
    {
     "data": {
      "text/plain": [
       "(6617, 7)"
      ]
     },
     "execution_count": 3,
     "metadata": {},
     "output_type": "execute_result"
    }
   ],
   "source": [
    "df = parseFitFile(\"../Downloads/2021-04-20-20-03-42.fit\")\n",
    "df.shape"
   ]
  },
  {
   "cell_type": "code",
   "execution_count": 4,
   "id": "radical-clock",
   "metadata": {},
   "outputs": [
    {
     "data": {
      "text/html": [
       "<div>\n",
       "<style scoped>\n",
       "    .dataframe tbody tr th:only-of-type {\n",
       "        vertical-align: middle;\n",
       "    }\n",
       "\n",
       "    .dataframe tbody tr th {\n",
       "        vertical-align: top;\n",
       "    }\n",
       "\n",
       "    .dataframe thead th {\n",
       "        text-align: right;\n",
       "    }\n",
       "</style>\n",
       "<table border=\"1\" class=\"dataframe\">\n",
       "  <thead>\n",
       "    <tr style=\"text-align: right;\">\n",
       "      <th></th>\n",
       "      <th>altitude</th>\n",
       "      <th>cadence</th>\n",
       "      <th>distance</th>\n",
       "      <th>heart_rate</th>\n",
       "      <th>power</th>\n",
       "      <th>speed</th>\n",
       "      <th>timestamp</th>\n",
       "    </tr>\n",
       "  </thead>\n",
       "  <tbody>\n",
       "    <tr>\n",
       "      <th>0</th>\n",
       "      <td>5.0</td>\n",
       "      <td>88.0</td>\n",
       "      <td>8.68</td>\n",
       "      <td>111</td>\n",
       "      <td>175.0</td>\n",
       "      <td>8.288</td>\n",
       "      <td>2021-04-20 15:00:20</td>\n",
       "    </tr>\n",
       "    <tr>\n",
       "      <th>1</th>\n",
       "      <td>5.0</td>\n",
       "      <td>88.0</td>\n",
       "      <td>17.04</td>\n",
       "      <td>112</td>\n",
       "      <td>171.0</td>\n",
       "      <td>8.419</td>\n",
       "      <td>2021-04-20 15:00:21</td>\n",
       "    </tr>\n",
       "    <tr>\n",
       "      <th>2</th>\n",
       "      <td>5.0</td>\n",
       "      <td>88.0</td>\n",
       "      <td>25.79</td>\n",
       "      <td>119</td>\n",
       "      <td>NaN</td>\n",
       "      <td>8.118</td>\n",
       "      <td>2021-04-20 15:00:22</td>\n",
       "    </tr>\n",
       "    <tr>\n",
       "      <th>3</th>\n",
       "      <td>5.0</td>\n",
       "      <td>88.0</td>\n",
       "      <td>33.21</td>\n",
       "      <td>120</td>\n",
       "      <td>170.0</td>\n",
       "      <td>7.682</td>\n",
       "      <td>2021-04-20 15:00:23</td>\n",
       "    </tr>\n",
       "    <tr>\n",
       "      <th>4</th>\n",
       "      <td>5.0</td>\n",
       "      <td>87.0</td>\n",
       "      <td>41.25</td>\n",
       "      <td>122</td>\n",
       "      <td>163.0</td>\n",
       "      <td>7.842</td>\n",
       "      <td>2021-04-20 15:00:24</td>\n",
       "    </tr>\n",
       "  </tbody>\n",
       "</table>\n",
       "</div>"
      ],
      "text/plain": [
       "   altitude  cadence  distance  heart_rate  power  speed           timestamp\n",
       "0       5.0     88.0      8.68         111  175.0  8.288 2021-04-20 15:00:20\n",
       "1       5.0     88.0     17.04         112  171.0  8.419 2021-04-20 15:00:21\n",
       "2       5.0     88.0     25.79         119    NaN  8.118 2021-04-20 15:00:22\n",
       "3       5.0     88.0     33.21         120  170.0  7.682 2021-04-20 15:00:23\n",
       "4       5.0     87.0     41.25         122  163.0  7.842 2021-04-20 15:00:24"
      ]
     },
     "execution_count": 4,
     "metadata": {},
     "output_type": "execute_result"
    }
   ],
   "source": [
    "df.head()"
   ]
  },
  {
   "cell_type": "code",
   "execution_count": 5,
   "id": "detailed-attempt",
   "metadata": {},
   "outputs": [
    {
     "data": {
      "text/plain": [
       "<AxesSubplot:xlabel='distance'>"
      ]
     },
     "execution_count": 5,
     "metadata": {},
     "output_type": "execute_result"
    },
    {
     "data": {
      "image/png": "[encoded data removed]",
      "text/plain": [
       "<Figure size 792x432 with 1 Axes>"
      ]
     },
     "metadata": {
      "needs_background": "light"
     },
     "output_type": "display_data"
    }
   ],
   "source": [
    "df.plot(\"distance\",[\"altitude\",\"power\"])"
   ]
  },
  {
   "cell_type": "markdown",
   "id": "hungarian-copying",
   "metadata": {},
   "source": [
    "I always do a few extra minutes of cool down and then a little extra to ensure I don't leave half way through a kilometer and loose valuable XP points. We know that the race was extactly 47.75km and we can truncate our data to consider only race data."
   ]
  },
  {
   "cell_type": "code",
   "execution_count": 6,
   "id": "lovely-buying",
   "metadata": {},
   "outputs": [
    {
     "data": {
      "text/plain": [
       "(6099, 7)"
      ]
     },
     "execution_count": 6,
     "metadata": {},
     "output_type": "execute_result"
    }
   ],
   "source": [
    "df = df[df['distance'] <= 48*1000]\n",
    "df.shape"
   ]
  },
  {
   "cell_type": "code",
   "execution_count": 7,
   "id": "prompt-string",
   "metadata": {},
   "outputs": [
    {
     "name": "stderr",
     "output_type": "stream",
     "text": [
      "/opt/conda/lib/python3.8/site-packages/pandas/core/indexing.py:1843: SettingWithCopyWarning: \n",
      "A value is trying to be set on a copy of a slice from a DataFrame.\n",
      "Try using .loc[row_indexer,col_indexer] = value instead\n",
      "\n",
      "See the caveats in the documentation: https://pandas.pydata.org/pandas-docs/stable/user_guide/indexing.html#returning-a-view-versus-a-copy\n",
      "  self.obj[item_labels[indexer[info_axis]]] = value\n"
     ]
    }
   ],
   "source": [
    "race = df[['distance','power','altitude']]\n",
    "race.loc[:,'distance'] = race['distance'] / 1e3"
   ]
  },
  {
   "cell_type": "code",
   "execution_count": 8,
   "id": "chicken-merchandise",
   "metadata": {},
   "outputs": [
    {
     "data": {
      "text/plain": [
       "<AxesSubplot:xlabel='distance'>"
      ]
     },
     "execution_count": 8,
     "metadata": {},
     "output_type": "execute_result"
    },
    {
     "data": {
      "image/png": "[encoded data removed]",
      "text/plain": [
       "<Figure size 792x432 with 1 Axes>"
      ]
     },
     "metadata": {
      "needs_background": "light"
     },
     "output_type": "display_data"
    }
   ],
   "source": [
    "race.plot(\"distance\",[\"altitude\",\"power\"])"
   ]
  },
  {
   "cell_type": "markdown",
   "id": "attempted-thesaurus",
   "metadata": {},
   "source": [
    "### Importing Race Plan"
   ]
  },
  {
   "cell_type": "code",
   "execution_count": 9,
   "id": "resident-mexican",
   "metadata": {},
   "outputs": [],
   "source": [
    "# Copied race plan from Google Sheet document, which in turn was created at BestBikeSplit\n",
    "plan = \"\"\"\n",
    "Interval\tInt. Time\tTotal Time\tInt. Dist.\tTotal Dist.\tGrade\tSpeed\tPower\n",
    "#1\t00:01:51\t00:01:51\t0.93 km\t0.93 km\t0.0064\t30.17 km/h\t183 watts\n",
    "#2\t00:01:24\t00:03:15\t0.38 km\t1.31 km\t0.0712\t16.12 km/h\t228 watts\n",
    "#3\t00:01:38\t00:04:53\t0.51 km\t1.82 km\t0.0458\t18.71 km/h\t216 watts\n",
    "#4\t00:00:58\t00:05:52\t0.52 km\t2.34 km\t-0.58 %\t32.00 km/h\t166 watts\n",
    "#5\t00:01:00\t00:06:52\t0.63 km\t2.97 km\t-1.68 %\t37.77 km/h\t154 watts\n",
    "#6\t00:00:38\t00:07:31\t0.31 km\t3.28 km\t0.0162\t28.88 km/h\t195 watts\n",
    "#7\t00:00:57\t00:08:28\t0.61 km\t3.89 km\t-2.90 %\t38.40 km/h\t142 watts\n",
    "#8\t00:00:41\t00:09:09\t0.49 km\t4.38 km\t-4.02 %\t42.70 km/h\t131 watts\n",
    "#9\t00:00:47\t00:09:57\t0.52 km\t4.90 km\t-0.54 %\t38.99 km/h\t167 watts\n",
    "#10\t00:00:35\t00:10:32\t0.26 km\t5.16 km\t0.025\t27.13 km/h\t231 watts\n",
    "#11\t00:05:07\t00:15:40\t2.92 km\t8.08 km\t-0.73 %\t34.18 km/h\t167 watts\n",
    "#12\t00:02:09\t00:17:49\t1.15 km\t9.23 km\t-0.04 %\t32.05 km/h\t175 watts\n",
    "#13\t00:00:41\t00:18:30\t0.24 km\t9.47 km\t0.0525\t21.29 km/h\t220 watts\n",
    "#14\t00:01:07\t00:19:38\t0.59 km\t10.06 km\t0.0007\t31.09 km/h\t176 watts\n",
    "#15\t00:02:13\t00:21:52\t0.59 km\t10.65 km\t0.0696\t15.95 km/h\t227 watts\n",
    "#16\t00:03:17\t00:25:10\t1.18 km\t11.83 km\t0.0341\t21.43 km/h\t208 watts\n",
    "#17\t00:07:45\t00:32:55\t2.24 km\t14.07 km\t0.0559\t17.30 km/h\t222 watts\n",
    "#18\t00:00:43\t00:33:39\t0.34 km\t14.41 km\t0.0072\t27.80 km/h\t184 watts\n",
    "#19\t00:00:59\t00:34:38\t0.34 km\t14.75 km\t0.0463\t20.78 km/h\t216 watts\n",
    "#20\t00:00:21\t00:34:59\t0.14 km\t14.89 km\t0.0261\t23.27 km/h\t232 watts\n",
    "#21\t00:05:17\t00:40:16\t1.61 km\t16.50 km\t0.0511\t18.24 km/h\t219 watts\n",
    "#22\t00:00:51\t00:41:07\t0.44 km\t16.94 km\t-0.36 %\t31.04 km/h\t170 watts\n",
    "#23\t00:01:03\t00:42:11\t0.36 km\t17.30 km\t0.0474\t20.55 km/h\t218 watts\n",
    "#24\t00:01:23\t00:43:34\t0.62 km\t17.92 km\t0.0168\t26.72 km/h\t195 watts\n",
    "#25\t00:00:20\t00:43:55\t0.17 km\t18.09 km\t0.0024\t30.24 km/h\t179 watts\n",
    "#26\t00:00:31\t00:44:26\t0.43 km\t18.52 km\t-6.70 %\t49.06 km/h\t111 watts\n",
    "#27\t00:03:05\t00:47:32\t0.94 km\t19.46 km\t0.0591\t18.29 km/h\t224 watts\n",
    "#28\t00:00:48\t00:48:20\t0.37 km\t19.83 km\t0.0088\t27.35 km/h\t186 watts\n",
    "#29\t00:06:52\t00:55:12\t1.15 km\t20.98 km\t0.1186\t10.09 km/h\t235 watts\n",
    "#30\t00:00:35\t00:55:48\t0.18 km\t21.16 km\t0.0373\t18.42 km/h\t211 watts\n",
    "#31\t00:00:23\t00:56:11\t0.20 km\t21.36 km\t-1.12 %\t29.79 km/h\t160 watts\n",
    "#32\t00:01:08\t00:57:20\t1.08 km\t22.44 km\t-13.38 %\t56.87 km/h\t0 watts\n",
    "#33\t00:00:12\t00:57:32\t0.16 km\t22.60 km\t0.0372\t47.91 km/h\t211 watts\n",
    "#34\t00:00:56\t00:58:28\t0.77 km\t23.37 km\t-8.59 %\t49.58 km/h\t30 watts\n",
    "#35\t00:00:40\t00:59:08\t0.47 km\t23.84 km\t-4.61 %\t42.36 km/h\t127 watts\n",
    "#36\t00:00:36\t00:59:45\t0.49 km\t24.33 km\t-10.22 %\t48.16 km/h\t0 watts\n",
    "#37\t00:01:12\t01:00:57\t0.30 km\t24.63 km\t0.07\t14.74 km/h\t226 watts\n",
    "#38\t00:00:36\t01:01:34\t0.40 km\t25.03 km\t-8.87 %\t39.96 km/h\t0 watts\n",
    "#39\t00:01:18\t01:02:52\t1.28 km\t26.31 km\t-8.12 %\t58.93 km/h\t105 watts\n",
    "#40\t00:00:26\t01:03:19\t0.31 km\t26.62 km\t0.0233\t41.17 km/h\t227 watts\n",
    "#41\t00:00:13\t01:03:32\t0.11 km\t26.73 km\t-7.84 %\t29.19 km/h\t114 watts\n",
    "#42\t00:00:29\t01:04:02\t0.37 km\t27.10 km\t-8.95 %\t44.54 km/h\t4 watts\n",
    "#43\t00:00:52\t01:04:55\t0.63 km\t27.73 km\t-3.18 %\t43.54 km/h\t142 watts\n",
    "#44\t00:00:44\t01:05:39\t0.71 km\t28.44 km\t-7.49 %\t57.05 km/h\t106 watts\n",
    "#45\t00:01:46\t01:07:26\t1.14 km\t29.58 km\t-0.67 %\t38.28 km/h\t169 watts\n",
    "#46\t00:03:07\t01:10:34\t1.58 km\t31.16 km\t0.0094\t30.32 km/h\t186 watts\n",
    "#47\t00:00:23\t01:10:57\t0.18 km\t31.34 km\t0.0229\t28.60 km/h\t216 watts\n",
    "#48\t00:02:02\t01:12:59\t1.25 km\t32.59 km\t-1.57 %\t36.86 km/h\t156 watts\n",
    "#49\t00:01:19\t01:14:19\t0.74 km\t33.33 km\t0.003\t33.33 km/h\t180 watts\n",
    "#50\t00:01:36\t01:15:55\t0.74 km\t34.07 km\t0.0148\t27.76 km/h\t193 watts\n",
    "#51\t00:04:38\t01:20:33\t2.56 km\t36.63 km\t-0.17 %\t33.11 km/h\t174 watts\n",
    "#52\t00:00:31\t01:21:05\t0.26 km\t36.89 km\t0.0098\t29.94 km/h\t186 watts\n",
    "#53\t00:02:31\t01:23:37\t0.83 km\t37.72 km\t0.0439\t19.70 km/h\t216 watts\n",
    "#54\t00:02:17\t01:25:54\t1.08 km\t38.80 km\t0.0128\t28.28 km/h\t191 watts\n",
    "#55\t00:05:08\t01:31:03\t1.67 km\t40.47 km\t0.042\t19.48 km/h\t214 watts\n",
    "#56\t00:02:52\t01:33:55\t2.13 km\t42.60 km\t-3.35 %\t44.47 km/h\t135 watts\n",
    "#57\t00:01:46\t01:35:42\t1.02 km\t43.62 km\t-1.20 %\t34.18 km/h\t161 watts\n",
    "#58\t00:00:57\t01:36:39\t0.70 km\t44.32 km\t-4.46 %\t44.42 km/h\t125 watts\n",
    "#59\t00:04:38\t01:41:18\t2.58 km\t46.90 km\t-0.14 %\t33.27 km/h\t176 watts\n",
    "#60\t00:01:21\t01:42:40\t0.85 km\t47.75 km\t-1.38 %\t37.52 km/h\t160 watts\n",
    "\"\"\""
   ]
  },
  {
   "cell_type": "code",
   "execution_count": 10,
   "id": "strange-check",
   "metadata": {},
   "outputs": [
    {
     "data": {
      "text/plain": [
       "(60, 8)"
      ]
     },
     "execution_count": 10,
     "metadata": {},
     "output_type": "execute_result"
    }
   ],
   "source": [
    "from io import StringIO\n",
    "\n",
    "plan = pd.read_table(StringIO(plan))\n",
    "plan.shape"
   ]
  },
  {
   "cell_type": "code",
   "execution_count": 11,
   "id": "martial-oxide",
   "metadata": {},
   "outputs": [
    {
     "data": {
      "text/html": [
       "<div>\n",
       "<style scoped>\n",
       "    .dataframe tbody tr th:only-of-type {\n",
       "        vertical-align: middle;\n",
       "    }\n",
       "\n",
       "    .dataframe tbody tr th {\n",
       "        vertical-align: top;\n",
       "    }\n",
       "\n",
       "    .dataframe thead th {\n",
       "        text-align: right;\n",
       "    }\n",
       "</style>\n",
       "<table border=\"1\" class=\"dataframe\">\n",
       "  <thead>\n",
       "    <tr style=\"text-align: right;\">\n",
       "      <th></th>\n",
       "      <th>Interval</th>\n",
       "      <th>Int. Time</th>\n",
       "      <th>Total Time</th>\n",
       "      <th>Int. Dist.</th>\n",
       "      <th>Total Dist.</th>\n",
       "      <th>Grade</th>\n",
       "      <th>Speed</th>\n",
       "      <th>Power</th>\n",
       "    </tr>\n",
       "  </thead>\n",
       "  <tbody>\n",
       "    <tr>\n",
       "      <th>0</th>\n",
       "      <td>#1</td>\n",
       "      <td>00:01:51</td>\n",
       "      <td>00:01:51</td>\n",
       "      <td>0.93 km</td>\n",
       "      <td>0.93 km</td>\n",
       "      <td>0.0064</td>\n",
       "      <td>30.17 km/h</td>\n",
       "      <td>183 watts</td>\n",
       "    </tr>\n",
       "    <tr>\n",
       "      <th>1</th>\n",
       "      <td>#2</td>\n",
       "      <td>00:01:24</td>\n",
       "      <td>00:03:15</td>\n",
       "      <td>0.38 km</td>\n",
       "      <td>1.31 km</td>\n",
       "      <td>0.0712</td>\n",
       "      <td>16.12 km/h</td>\n",
       "      <td>228 watts</td>\n",
       "    </tr>\n",
       "    <tr>\n",
       "      <th>2</th>\n",
       "      <td>#3</td>\n",
       "      <td>00:01:38</td>\n",
       "      <td>00:04:53</td>\n",
       "      <td>0.51 km</td>\n",
       "      <td>1.82 km</td>\n",
       "      <td>0.0458</td>\n",
       "      <td>18.71 km/h</td>\n",
       "      <td>216 watts</td>\n",
       "    </tr>\n",
       "    <tr>\n",
       "      <th>3</th>\n",
       "      <td>#4</td>\n",
       "      <td>00:00:58</td>\n",
       "      <td>00:05:52</td>\n",
       "      <td>0.52 km</td>\n",
       "      <td>2.34 km</td>\n",
       "      <td>-0.58 %</td>\n",
       "      <td>32.00 km/h</td>\n",
       "      <td>166 watts</td>\n",
       "    </tr>\n",
       "    <tr>\n",
       "      <th>4</th>\n",
       "      <td>#5</td>\n",
       "      <td>00:01:00</td>\n",
       "      <td>00:06:52</td>\n",
       "      <td>0.63 km</td>\n",
       "      <td>2.97 km</td>\n",
       "      <td>-1.68 %</td>\n",
       "      <td>37.77 km/h</td>\n",
       "      <td>154 watts</td>\n",
       "    </tr>\n",
       "  </tbody>\n",
       "</table>\n",
       "</div>"
      ],
      "text/plain": [
       "  Interval Int. Time Total Time Int. Dist. Total Dist.    Grade       Speed  \\\n",
       "0       #1  00:01:51   00:01:51    0.93 km     0.93 km   0.0064  30.17 km/h   \n",
       "1       #2  00:01:24   00:03:15    0.38 km     1.31 km   0.0712  16.12 km/h   \n",
       "2       #3  00:01:38   00:04:53    0.51 km     1.82 km   0.0458  18.71 km/h   \n",
       "3       #4  00:00:58   00:05:52    0.52 km     2.34 km  -0.58 %  32.00 km/h   \n",
       "4       #5  00:01:00   00:06:52    0.63 km     2.97 km  -1.68 %  37.77 km/h   \n",
       "\n",
       "       Power  \n",
       "0  183 watts  \n",
       "1  228 watts  \n",
       "2  216 watts  \n",
       "3  166 watts  \n",
       "4  154 watts  "
      ]
     },
     "execution_count": 11,
     "metadata": {},
     "output_type": "execute_result"
    }
   ],
   "source": [
    "plan.head()"
   ]
  },
  {
   "cell_type": "code",
   "execution_count": 12,
   "id": "fossil-priest",
   "metadata": {},
   "outputs": [],
   "source": [
    "plan.loc[:,\"total_distance\"] = plan[\"Total Dist.\"].apply(lambda x: float(x.replace(\" km\",\"\")))\n",
    "plan.loc[:,\"interval_distance\"] = plan[\"Int. Dist.\"].apply(lambda x: float(x.replace(\" km\",\"\")))\n",
    "plan.loc[:,\"power\"] = plan[\"Power\"].apply(lambda x: int(x.replace(\" watts\",\"\")))\n",
    "plan.loc[:,\"grade\"] = plan[\"Grade\"].apply(lambda x: float(x.replace(\" %\",\"\")))"
   ]
  },
  {
   "cell_type": "code",
   "execution_count": 13,
   "id": "spread-piano",
   "metadata": {},
   "outputs": [],
   "source": [
    "final_plan = plan[[\"total_distance\",\"interval_distance\",\"power\",\"grade\"]]"
   ]
  },
  {
   "cell_type": "code",
   "execution_count": 14,
   "id": "stretch-suspect",
   "metadata": {},
   "outputs": [
    {
     "data": {
      "text/html": [
       "<div>\n",
       "<style scoped>\n",
       "    .dataframe tbody tr th:only-of-type {\n",
       "        vertical-align: middle;\n",
       "    }\n",
       "\n",
       "    .dataframe tbody tr th {\n",
       "        vertical-align: top;\n",
       "    }\n",
       "\n",
       "    .dataframe thead th {\n",
       "        text-align: right;\n",
       "    }\n",
       "</style>\n",
       "<table border=\"1\" class=\"dataframe\">\n",
       "  <thead>\n",
       "    <tr style=\"text-align: right;\">\n",
       "      <th></th>\n",
       "      <th>total_distance</th>\n",
       "      <th>interval_distance</th>\n",
       "      <th>power</th>\n",
       "      <th>grade</th>\n",
       "    </tr>\n",
       "  </thead>\n",
       "  <tbody>\n",
       "    <tr>\n",
       "      <th>0</th>\n",
       "      <td>0.93</td>\n",
       "      <td>0.93</td>\n",
       "      <td>183</td>\n",
       "      <td>0.0064</td>\n",
       "    </tr>\n",
       "    <tr>\n",
       "      <th>1</th>\n",
       "      <td>1.31</td>\n",
       "      <td>0.38</td>\n",
       "      <td>228</td>\n",
       "      <td>0.0712</td>\n",
       "    </tr>\n",
       "    <tr>\n",
       "      <th>2</th>\n",
       "      <td>1.82</td>\n",
       "      <td>0.51</td>\n",
       "      <td>216</td>\n",
       "      <td>0.0458</td>\n",
       "    </tr>\n",
       "    <tr>\n",
       "      <th>3</th>\n",
       "      <td>2.34</td>\n",
       "      <td>0.52</td>\n",
       "      <td>166</td>\n",
       "      <td>-0.5800</td>\n",
       "    </tr>\n",
       "    <tr>\n",
       "      <th>4</th>\n",
       "      <td>2.97</td>\n",
       "      <td>0.63</td>\n",
       "      <td>154</td>\n",
       "      <td>-1.6800</td>\n",
       "    </tr>\n",
       "  </tbody>\n",
       "</table>\n",
       "</div>"
      ],
      "text/plain": [
       "   total_distance  interval_distance  power   grade\n",
       "0            0.93               0.93    183  0.0064\n",
       "1            1.31               0.38    228  0.0712\n",
       "2            1.82               0.51    216  0.0458\n",
       "3            2.34               0.52    166 -0.5800\n",
       "4            2.97               0.63    154 -1.6800"
      ]
     },
     "execution_count": 14,
     "metadata": {},
     "output_type": "execute_result"
    }
   ],
   "source": [
    "final_plan.head()"
   ]
  },
  {
   "cell_type": "code",
   "execution_count": 15,
   "id": "major-showcase",
   "metadata": {},
   "outputs": [
    {
     "data": {
      "text/plain": [
       "47.75"
      ]
     },
     "execution_count": 15,
     "metadata": {},
     "output_type": "execute_result"
    }
   ],
   "source": [
    "final_plan['total_distance'].max()"
   ]
  },
  {
   "cell_type": "code",
   "execution_count": 16,
   "id": "shared-union",
   "metadata": {},
   "outputs": [
    {
     "data": {
      "text/html": [
       "<div>\n",
       "<style scoped>\n",
       "    .dataframe tbody tr th:only-of-type {\n",
       "        vertical-align: middle;\n",
       "    }\n",
       "\n",
       "    .dataframe tbody tr th {\n",
       "        vertical-align: top;\n",
       "    }\n",
       "\n",
       "    .dataframe thead th {\n",
       "        text-align: right;\n",
       "    }\n",
       "</style>\n",
       "<table border=\"1\" class=\"dataframe\">\n",
       "  <thead>\n",
       "    <tr style=\"text-align: right;\">\n",
       "      <th></th>\n",
       "      <th>Interval</th>\n",
       "      <th>Int. Time</th>\n",
       "      <th>Total Time</th>\n",
       "      <th>Int. Dist.</th>\n",
       "      <th>Total Dist.</th>\n",
       "      <th>Grade</th>\n",
       "      <th>Speed</th>\n",
       "      <th>Power</th>\n",
       "      <th>total_distance</th>\n",
       "      <th>interval_distance</th>\n",
       "      <th>power</th>\n",
       "      <th>grade</th>\n",
       "    </tr>\n",
       "  </thead>\n",
       "  <tbody>\n",
       "    <tr>\n",
       "      <th>59</th>\n",
       "      <td>#60</td>\n",
       "      <td>00:01:21</td>\n",
       "      <td>01:42:40</td>\n",
       "      <td>0.85 km</td>\n",
       "      <td>47.75 km</td>\n",
       "      <td>-1.38 %</td>\n",
       "      <td>37.52 km/h</td>\n",
       "      <td>160 watts</td>\n",
       "      <td>47.75</td>\n",
       "      <td>0.85</td>\n",
       "      <td>160</td>\n",
       "      <td>-1.38</td>\n",
       "    </tr>\n",
       "  </tbody>\n",
       "</table>\n",
       "</div>"
      ],
      "text/plain": [
       "   Interval Int. Time Total Time Int. Dist. Total Dist.    Grade       Speed  \\\n",
       "59      #60  00:01:21   01:42:40    0.85 km    47.75 km  -1.38 %  37.52 km/h   \n",
       "\n",
       "        Power  total_distance  interval_distance  power  grade  \n",
       "59  160 watts           47.75               0.85    160  -1.38  "
      ]
     },
     "execution_count": 16,
     "metadata": {},
     "output_type": "execute_result"
    }
   ],
   "source": [
    "plan[plan.index == 59]"
   ]
  },
  {
   "cell_type": "code",
   "execution_count": 17,
   "id": "sonic-arrest",
   "metadata": {},
   "outputs": [
    {
     "data": {
      "text/plain": [
       "48.25"
      ]
     },
     "execution_count": 17,
     "metadata": {},
     "output_type": "execute_result"
    }
   ],
   "source": [
    "47.75 + 0.5"
   ]
  },
  {
   "cell_type": "code",
   "execution_count": 18,
   "id": "industrial-secondary",
   "metadata": {},
   "outputs": [
    {
     "data": {
      "text/plain": [
       "<AxesSubplot:xlabel='total_distance'>"
      ]
     },
     "execution_count": 18,
     "metadata": {},
     "output_type": "execute_result"
    },
    {
     "data": {
      "image/png": "[encoded data removed]",
      "text/plain": [
       "<Figure size 792x432 with 1 Axes>"
      ]
     },
     "metadata": {
      "needs_background": "light"
     },
     "output_type": "display_data"
    }
   ],
   "source": [
    "final_plan.plot(\"total_distance\",\"power\")"
   ]
  },
  {
   "cell_type": "markdown",
   "id": "olympic-tulsa",
   "metadata": {},
   "source": [
    "### Analysis\n",
    "\n",
    "The plan data calculates an average power for the interval. We need to convert the race data into these intervals as well and compare.\n",
    "\n",
    "There is a slight mismatch between the two sources of data. We will try and align them from the end."
   ]
  },
  {
   "cell_type": "code",
   "execution_count": 19,
   "id": "architectural-twist",
   "metadata": {},
   "outputs": [
    {
     "data": {
      "text/plain": [
       "(47.991620000000005, 47.75, 0.2416200000000046)"
      ]
     },
     "execution_count": 19,
     "metadata": {},
     "output_type": "execute_result"
    }
   ],
   "source": [
    "m1 = max(race['distance'])\n",
    "m2 = max(final_plan['total_distance'])\n",
    "diff = max(race['distance']) - max(final_plan['total_distance'])\n",
    "m1,m2,diff"
   ]
  },
  {
   "cell_type": "code",
   "execution_count": 20,
   "id": "unsigned-emphasis",
   "metadata": {},
   "outputs": [
    {
     "name": "stderr",
     "output_type": "stream",
     "text": [
      "/opt/conda/lib/python3.8/site-packages/pandas/core/indexing.py:1843: SettingWithCopyWarning: \n",
      "A value is trying to be set on a copy of a slice from a DataFrame.\n",
      "Try using .loc[row_indexer,col_indexer] = value instead\n",
      "\n",
      "See the caveats in the documentation: https://pandas.pydata.org/pandas-docs/stable/user_guide/indexing.html#returning-a-view-versus-a-copy\n",
      "  self.obj[item_labels[indexer[info_axis]]] = value\n"
     ]
    },
    {
     "data": {
      "text/html": [
       "<div>\n",
       "<style scoped>\n",
       "    .dataframe tbody tr th:only-of-type {\n",
       "        vertical-align: middle;\n",
       "    }\n",
       "\n",
       "    .dataframe tbody tr th {\n",
       "        vertical-align: top;\n",
       "    }\n",
       "\n",
       "    .dataframe thead th {\n",
       "        text-align: right;\n",
       "    }\n",
       "</style>\n",
       "<table border=\"1\" class=\"dataframe\">\n",
       "  <thead>\n",
       "    <tr style=\"text-align: right;\">\n",
       "      <th></th>\n",
       "      <th>distance</th>\n",
       "      <th>power</th>\n",
       "      <th>altitude</th>\n",
       "    </tr>\n",
       "  </thead>\n",
       "  <tbody>\n",
       "    <tr>\n",
       "      <th>26</th>\n",
       "      <td>0.00015</td>\n",
       "      <td>170.0</td>\n",
       "      <td>5.2</td>\n",
       "    </tr>\n",
       "    <tr>\n",
       "      <th>27</th>\n",
       "      <td>0.01032</td>\n",
       "      <td>172.0</td>\n",
       "      <td>5.2</td>\n",
       "    </tr>\n",
       "    <tr>\n",
       "      <th>28</th>\n",
       "      <td>0.02039</td>\n",
       "      <td>177.0</td>\n",
       "      <td>5.0</td>\n",
       "    </tr>\n",
       "    <tr>\n",
       "      <th>29</th>\n",
       "      <td>0.03002</td>\n",
       "      <td>177.0</td>\n",
       "      <td>5.0</td>\n",
       "    </tr>\n",
       "    <tr>\n",
       "      <th>30</th>\n",
       "      <td>0.04095</td>\n",
       "      <td>180.0</td>\n",
       "      <td>4.6</td>\n",
       "    </tr>\n",
       "  </tbody>\n",
       "</table>\n",
       "</div>"
      ],
      "text/plain": [
       "    distance  power  altitude\n",
       "26   0.00015  170.0       5.2\n",
       "27   0.01032  172.0       5.2\n",
       "28   0.02039  177.0       5.0\n",
       "29   0.03002  177.0       5.0\n",
       "30   0.04095  180.0       4.6"
      ]
     },
     "execution_count": 20,
     "metadata": {},
     "output_type": "execute_result"
    }
   ],
   "source": [
    "race_aligned = race\n",
    "race_aligned.loc[:,'distance'] = race_aligned['distance'] - diff\n",
    "race_aligned = race_aligned[race_aligned['distance']>=0]\n",
    "race_aligned.head()"
   ]
  },
  {
   "cell_type": "markdown",
   "id": "hydraulic-debut",
   "metadata": {},
   "source": [
    "Now we calculate the average power in the race using the intervals defined in the plan."
   ]
  },
  {
   "cell_type": "code",
   "execution_count": 21,
   "id": "beautiful-candle",
   "metadata": {
    "scrolled": false
   },
   "outputs": [
    {
     "data": {
      "text/html": [
       "<div>\n",
       "<style scoped>\n",
       "    .dataframe tbody tr th:only-of-type {\n",
       "        vertical-align: middle;\n",
       "    }\n",
       "\n",
       "    .dataframe tbody tr th {\n",
       "        vertical-align: top;\n",
       "    }\n",
       "\n",
       "    .dataframe thead th {\n",
       "        text-align: right;\n",
       "    }\n",
       "</style>\n",
       "<table border=\"1\" class=\"dataframe\">\n",
       "  <thead>\n",
       "    <tr style=\"text-align: right;\">\n",
       "      <th></th>\n",
       "      <th>start</th>\n",
       "      <th>end</th>\n",
       "      <th>power</th>\n",
       "    </tr>\n",
       "  </thead>\n",
       "  <tbody>\n",
       "    <tr>\n",
       "      <th>0</th>\n",
       "      <td>0.00</td>\n",
       "      <td>0.93</td>\n",
       "      <td>183.268817</td>\n",
       "    </tr>\n",
       "    <tr>\n",
       "      <th>1</th>\n",
       "      <td>0.93</td>\n",
       "      <td>1.31</td>\n",
       "      <td>209.391304</td>\n",
       "    </tr>\n",
       "    <tr>\n",
       "      <th>2</th>\n",
       "      <td>1.31</td>\n",
       "      <td>1.82</td>\n",
       "      <td>204.050505</td>\n",
       "    </tr>\n",
       "    <tr>\n",
       "      <th>3</th>\n",
       "      <td>1.82</td>\n",
       "      <td>2.34</td>\n",
       "      <td>174.191489</td>\n",
       "    </tr>\n",
       "    <tr>\n",
       "      <th>4</th>\n",
       "      <td>2.34</td>\n",
       "      <td>2.97</td>\n",
       "      <td>172.142857</td>\n",
       "    </tr>\n",
       "  </tbody>\n",
       "</table>\n",
       "</div>"
      ],
      "text/plain": [
       "   start   end       power\n",
       "0   0.00  0.93  183.268817\n",
       "1   0.93  1.31  209.391304\n",
       "2   1.31  1.82  204.050505\n",
       "3   1.82  2.34  174.191489\n",
       "4   2.34  2.97  172.142857"
      ]
     },
     "execution_count": 21,
     "metadata": {},
     "output_type": "execute_result"
    }
   ],
   "source": [
    "rows = []\n",
    "for i,row in final_plan.iterrows():\n",
    "    end = row['total_distance']\n",
    "    start = end - row['interval_distance']\n",
    "    avg_power = np.average(race.loc[(race['distance'] >= start) & (race['distance'] < end),'power'].dropna())\n",
    "    rows.append([start,end,avg_power])\n",
    "    \n",
    "race_intervals = pd.DataFrame(rows,columns=['start','end','power'])\n",
    "race_intervals.head()"
   ]
  },
  {
   "cell_type": "code",
   "execution_count": 22,
   "id": "engaging-toilet",
   "metadata": {},
   "outputs": [
    {
     "name": "stderr",
     "output_type": "stream",
     "text": [
      "/opt/conda/lib/python3.8/site-packages/pandas/core/indexing.py:1597: SettingWithCopyWarning: \n",
      "A value is trying to be set on a copy of a slice from a DataFrame.\n",
      "Try using .loc[row_indexer,col_indexer] = value instead\n",
      "\n",
      "See the caveats in the documentation: https://pandas.pydata.org/pandas-docs/stable/user_guide/indexing.html#returning-a-view-versus-a-copy\n",
      "  self.obj[key] = value\n",
      "/opt/conda/lib/python3.8/site-packages/pandas/core/indexing.py:1676: SettingWithCopyWarning: \n",
      "A value is trying to be set on a copy of a slice from a DataFrame.\n",
      "Try using .loc[row_indexer,col_indexer] = value instead\n",
      "\n",
      "See the caveats in the documentation: https://pandas.pydata.org/pandas-docs/stable/user_guide/indexing.html#returning-a-view-versus-a-copy\n",
      "  self._setitem_single_column(ilocs[0], value, pi)\n"
     ]
    },
    {
     "data": {
      "text/html": [
       "<div>\n",
       "<style scoped>\n",
       "    .dataframe tbody tr th:only-of-type {\n",
       "        vertical-align: middle;\n",
       "    }\n",
       "\n",
       "    .dataframe tbody tr th {\n",
       "        vertical-align: top;\n",
       "    }\n",
       "\n",
       "    .dataframe thead th {\n",
       "        text-align: right;\n",
       "    }\n",
       "</style>\n",
       "<table border=\"1\" class=\"dataframe\">\n",
       "  <thead>\n",
       "    <tr style=\"text-align: right;\">\n",
       "      <th></th>\n",
       "      <th>start</th>\n",
       "      <th>end</th>\n",
       "      <th>power</th>\n",
       "    </tr>\n",
       "  </thead>\n",
       "  <tbody>\n",
       "    <tr>\n",
       "      <th>0</th>\n",
       "      <td>0.00</td>\n",
       "      <td>0.93</td>\n",
       "      <td>183</td>\n",
       "    </tr>\n",
       "    <tr>\n",
       "      <th>1</th>\n",
       "      <td>0.93</td>\n",
       "      <td>1.31</td>\n",
       "      <td>228</td>\n",
       "    </tr>\n",
       "    <tr>\n",
       "      <th>2</th>\n",
       "      <td>1.31</td>\n",
       "      <td>1.82</td>\n",
       "      <td>216</td>\n",
       "    </tr>\n",
       "    <tr>\n",
       "      <th>3</th>\n",
       "      <td>1.82</td>\n",
       "      <td>2.34</td>\n",
       "      <td>166</td>\n",
       "    </tr>\n",
       "    <tr>\n",
       "      <th>4</th>\n",
       "      <td>2.34</td>\n",
       "      <td>2.97</td>\n",
       "      <td>154</td>\n",
       "    </tr>\n",
       "  </tbody>\n",
       "</table>\n",
       "</div>"
      ],
      "text/plain": [
       "   start   end  power\n",
       "0   0.00  0.93    183\n",
       "1   0.93  1.31    228\n",
       "2   1.31  1.82    216\n",
       "3   1.82  2.34    166\n",
       "4   2.34  2.97    154"
      ]
     },
     "execution_count": 22,
     "metadata": {},
     "output_type": "execute_result"
    }
   ],
   "source": [
    "final_plan.loc[:,'start'] = final_plan['total_distance'] - final_plan['interval_distance']\n",
    "final_plan.loc[:,'end'] = final_plan['total_distance']\n",
    "\n",
    "final = final_plan[['start','end','power']]\n",
    "final.head()"
   ]
  },
  {
   "cell_type": "markdown",
   "id": "blind-arnold",
   "metadata": {},
   "source": [
    "We merge the data between plan vs actual using the interval information -- start and end."
   ]
  },
  {
   "cell_type": "code",
   "execution_count": 23,
   "id": "collective-office",
   "metadata": {},
   "outputs": [
    {
     "data": {
      "text/plain": [
       "((60, 3), (60, 3), (60, 4))"
      ]
     },
     "execution_count": 23,
     "metadata": {},
     "output_type": "execute_result"
    }
   ],
   "source": [
    "result = race_intervals.merge(final,on=['start','end'],suffixes=['_actual','_plan'])\n",
    "# result.head()\n",
    "race_intervals.shape, final.shape, result.shape"
   ]
  },
  {
   "cell_type": "code",
   "execution_count": 24,
   "id": "transsexual-emerald",
   "metadata": {},
   "outputs": [
    {
     "data": {
      "text/html": [
       "<div>\n",
       "<style scoped>\n",
       "    .dataframe tbody tr th:only-of-type {\n",
       "        vertical-align: middle;\n",
       "    }\n",
       "\n",
       "    .dataframe tbody tr th {\n",
       "        vertical-align: top;\n",
       "    }\n",
       "\n",
       "    .dataframe thead th {\n",
       "        text-align: right;\n",
       "    }\n",
       "</style>\n",
       "<table border=\"1\" class=\"dataframe\">\n",
       "  <thead>\n",
       "    <tr style=\"text-align: right;\">\n",
       "      <th></th>\n",
       "      <th>start</th>\n",
       "      <th>end</th>\n",
       "      <th>power_actual</th>\n",
       "      <th>power_plan</th>\n",
       "      <th>diff</th>\n",
       "      <th>interval</th>\n",
       "    </tr>\n",
       "  </thead>\n",
       "  <tbody>\n",
       "    <tr>\n",
       "      <th>0</th>\n",
       "      <td>0.00</td>\n",
       "      <td>0.93</td>\n",
       "      <td>183.268817</td>\n",
       "      <td>183</td>\n",
       "      <td>0.268817</td>\n",
       "      <td>0.93</td>\n",
       "    </tr>\n",
       "    <tr>\n",
       "      <th>1</th>\n",
       "      <td>0.93</td>\n",
       "      <td>1.31</td>\n",
       "      <td>209.391304</td>\n",
       "      <td>228</td>\n",
       "      <td>-18.608696</td>\n",
       "      <td>0.38</td>\n",
       "    </tr>\n",
       "    <tr>\n",
       "      <th>2</th>\n",
       "      <td>1.31</td>\n",
       "      <td>1.82</td>\n",
       "      <td>204.050505</td>\n",
       "      <td>216</td>\n",
       "      <td>-11.949495</td>\n",
       "      <td>0.51</td>\n",
       "    </tr>\n",
       "    <tr>\n",
       "      <th>3</th>\n",
       "      <td>1.82</td>\n",
       "      <td>2.34</td>\n",
       "      <td>174.191489</td>\n",
       "      <td>166</td>\n",
       "      <td>8.191489</td>\n",
       "      <td>0.52</td>\n",
       "    </tr>\n",
       "    <tr>\n",
       "      <th>4</th>\n",
       "      <td>2.34</td>\n",
       "      <td>2.97</td>\n",
       "      <td>172.142857</td>\n",
       "      <td>154</td>\n",
       "      <td>18.142857</td>\n",
       "      <td>0.63</td>\n",
       "    </tr>\n",
       "  </tbody>\n",
       "</table>\n",
       "</div>"
      ],
      "text/plain": [
       "   start   end  power_actual  power_plan       diff  interval\n",
       "0   0.00  0.93    183.268817         183   0.268817      0.93\n",
       "1   0.93  1.31    209.391304         228 -18.608696      0.38\n",
       "2   1.31  1.82    204.050505         216 -11.949495      0.51\n",
       "3   1.82  2.34    174.191489         166   8.191489      0.52\n",
       "4   2.34  2.97    172.142857         154  18.142857      0.63"
      ]
     },
     "execution_count": 24,
     "metadata": {},
     "output_type": "execute_result"
    }
   ],
   "source": [
    "result.loc[:,'diff'] = result['power_actual'] - result['power_plan']\n",
    "result.loc[:,'interval'] = result['end'] - result['start']\n",
    "result.head()"
   ]
  },
  {
   "cell_type": "markdown",
   "id": "velvet-charm",
   "metadata": {},
   "source": [
    "Now we plot this data to see it visually. We use the altitude data from the race to give context. We define the width of the bars based on the interval duration.\n",
    "\n",
    "There is still an alignment issue between race and plan. But this will give us some context. Below we have printed the raw data as well.\n",
    "\n",
    "In conclusion:\n",
    "* I was way faster downhill when the plan recommend resting and virtually stop pedalling. I didn't want my average watts for the race to come down.\n",
    "* Uphill I was off by 10-30 watts; average 21 watts. In some case 40 watts but I think that's exaggerated by the misalignment. I need to change gears or really focus to reduce this gap.\n",
    "* In the flat sections 30-37km (9 watts) and 44+km (13 watts), I could have been faster. I wasn't able to pull through. "
   ]
  },
  {
   "cell_type": "code",
   "execution_count": 25,
   "id": "emotional-bankruptcy",
   "metadata": {},
   "outputs": [
    {
     "data": {
      "image/png": "[encoded data removed]",
      "text/plain": [
       "<Figure size 792x432 with 2 Axes>"
      ]
     },
     "metadata": {
      "needs_background": "light"
     },
     "output_type": "display_data"
    }
   ],
   "source": [
    "import matplotlib.ticker as ticker\n",
    "\n",
    "fig, ax1 = plt.subplots(constrained_layout=True)\n",
    "ax1.plot(race['distance'],race['altitude'],label='Altitute')\n",
    "ax2 = ax1.twinx()\n",
    "ax2.bar(result['start'], result['diff']\n",
    "            ,color=(result['diff'] > 0).map({True: 'g',False: 'r'}),alpha=0.2\n",
    "            ,width=result['interval']\n",
    "            ,label='Diff in Power'\n",
    "           )\n",
    "ax1.set_ylabel('Altitude')\n",
    "ax2.set_ylabel('Power')\n",
    "\n",
    "# Add more ticks to analyse\n",
    "tick_spacing = 10\n",
    "ax2.yaxis.set_major_locator(ticker.MultipleLocator(tick_spacing))\n",
    "for i, tick in enumerate(ax2.yaxis.get_ticklabels()):\n",
    "    if i%2:\n",
    "        tick.set_visible(False)\n",
    "ax2.grid()\n",
    "plt.show()"
   ]
  },
  {
   "cell_type": "code",
   "execution_count": 26,
   "id": "attached-resolution",
   "metadata": {},
   "outputs": [
    {
     "data": {
      "text/html": [
       "<div>\n",
       "<style scoped>\n",
       "    .dataframe tbody tr th:only-of-type {\n",
       "        vertical-align: middle;\n",
       "    }\n",
       "\n",
       "    .dataframe tbody tr th {\n",
       "        vertical-align: top;\n",
       "    }\n",
       "\n",
       "    .dataframe thead th {\n",
       "        text-align: right;\n",
       "    }\n",
       "</style>\n",
       "<table border=\"1\" class=\"dataframe\">\n",
       "  <thead>\n",
       "    <tr style=\"text-align: right;\">\n",
       "      <th></th>\n",
       "      <th>start</th>\n",
       "      <th>end</th>\n",
       "      <th>power_actual</th>\n",
       "      <th>power_plan</th>\n",
       "      <th>diff</th>\n",
       "      <th>interval</th>\n",
       "    </tr>\n",
       "  </thead>\n",
       "  <tbody>\n",
       "    <tr>\n",
       "      <th>0</th>\n",
       "      <td>0.00</td>\n",
       "      <td>0.93</td>\n",
       "      <td>183.268817</td>\n",
       "      <td>183</td>\n",
       "      <td>0.268817</td>\n",
       "      <td>0.93</td>\n",
       "    </tr>\n",
       "    <tr>\n",
       "      <th>1</th>\n",
       "      <td>0.93</td>\n",
       "      <td>1.31</td>\n",
       "      <td>209.391304</td>\n",
       "      <td>228</td>\n",
       "      <td>-18.608696</td>\n",
       "      <td>0.38</td>\n",
       "    </tr>\n",
       "    <tr>\n",
       "      <th>2</th>\n",
       "      <td>1.31</td>\n",
       "      <td>1.82</td>\n",
       "      <td>204.050505</td>\n",
       "      <td>216</td>\n",
       "      <td>-11.949495</td>\n",
       "      <td>0.51</td>\n",
       "    </tr>\n",
       "    <tr>\n",
       "      <th>3</th>\n",
       "      <td>1.82</td>\n",
       "      <td>2.34</td>\n",
       "      <td>174.191489</td>\n",
       "      <td>166</td>\n",
       "      <td>8.191489</td>\n",
       "      <td>0.52</td>\n",
       "    </tr>\n",
       "    <tr>\n",
       "      <th>4</th>\n",
       "      <td>2.34</td>\n",
       "      <td>2.97</td>\n",
       "      <td>172.142857</td>\n",
       "      <td>154</td>\n",
       "      <td>18.142857</td>\n",
       "      <td>0.63</td>\n",
       "    </tr>\n",
       "    <tr>\n",
       "      <th>5</th>\n",
       "      <td>2.97</td>\n",
       "      <td>3.28</td>\n",
       "      <td>195.551724</td>\n",
       "      <td>195</td>\n",
       "      <td>0.551724</td>\n",
       "      <td>0.31</td>\n",
       "    </tr>\n",
       "    <tr>\n",
       "      <th>6</th>\n",
       "      <td>3.28</td>\n",
       "      <td>3.89</td>\n",
       "      <td>163.333333</td>\n",
       "      <td>142</td>\n",
       "      <td>21.333333</td>\n",
       "      <td>0.61</td>\n",
       "    </tr>\n",
       "    <tr>\n",
       "      <th>7</th>\n",
       "      <td>3.89</td>\n",
       "      <td>4.38</td>\n",
       "      <td>161.551724</td>\n",
       "      <td>131</td>\n",
       "      <td>30.551724</td>\n",
       "      <td>0.49</td>\n",
       "    </tr>\n",
       "    <tr>\n",
       "      <th>8</th>\n",
       "      <td>4.38</td>\n",
       "      <td>4.90</td>\n",
       "      <td>180.609756</td>\n",
       "      <td>167</td>\n",
       "      <td>13.609756</td>\n",
       "      <td>0.52</td>\n",
       "    </tr>\n",
       "    <tr>\n",
       "      <th>9</th>\n",
       "      <td>4.90</td>\n",
       "      <td>5.16</td>\n",
       "      <td>203.074074</td>\n",
       "      <td>231</td>\n",
       "      <td>-27.925926</td>\n",
       "      <td>0.26</td>\n",
       "    </tr>\n",
       "    <tr>\n",
       "      <th>10</th>\n",
       "      <td>5.16</td>\n",
       "      <td>8.08</td>\n",
       "      <td>190.132075</td>\n",
       "      <td>167</td>\n",
       "      <td>23.132075</td>\n",
       "      <td>2.92</td>\n",
       "    </tr>\n",
       "    <tr>\n",
       "      <th>11</th>\n",
       "      <td>8.08</td>\n",
       "      <td>9.23</td>\n",
       "      <td>177.019802</td>\n",
       "      <td>175</td>\n",
       "      <td>2.019802</td>\n",
       "      <td>1.15</td>\n",
       "    </tr>\n",
       "    <tr>\n",
       "      <th>12</th>\n",
       "      <td>9.23</td>\n",
       "      <td>9.47</td>\n",
       "      <td>192.117647</td>\n",
       "      <td>220</td>\n",
       "      <td>-27.882353</td>\n",
       "      <td>0.24</td>\n",
       "    </tr>\n",
       "    <tr>\n",
       "      <th>13</th>\n",
       "      <td>9.47</td>\n",
       "      <td>10.06</td>\n",
       "      <td>202.893939</td>\n",
       "      <td>176</td>\n",
       "      <td>26.893939</td>\n",
       "      <td>0.59</td>\n",
       "    </tr>\n",
       "    <tr>\n",
       "      <th>14</th>\n",
       "      <td>10.06</td>\n",
       "      <td>10.65</td>\n",
       "      <td>217.178295</td>\n",
       "      <td>227</td>\n",
       "      <td>-9.821705</td>\n",
       "      <td>0.59</td>\n",
       "    </tr>\n",
       "    <tr>\n",
       "      <th>15</th>\n",
       "      <td>10.65</td>\n",
       "      <td>11.83</td>\n",
       "      <td>207.920792</td>\n",
       "      <td>208</td>\n",
       "      <td>-0.079208</td>\n",
       "      <td>1.18</td>\n",
       "    </tr>\n",
       "    <tr>\n",
       "      <th>16</th>\n",
       "      <td>11.83</td>\n",
       "      <td>14.07</td>\n",
       "      <td>208.710084</td>\n",
       "      <td>222</td>\n",
       "      <td>-13.289916</td>\n",
       "      <td>2.24</td>\n",
       "    </tr>\n",
       "    <tr>\n",
       "      <th>17</th>\n",
       "      <td>14.07</td>\n",
       "      <td>14.41</td>\n",
       "      <td>190.000000</td>\n",
       "      <td>184</td>\n",
       "      <td>6.000000</td>\n",
       "      <td>0.34</td>\n",
       "    </tr>\n",
       "    <tr>\n",
       "      <th>18</th>\n",
       "      <td>14.41</td>\n",
       "      <td>14.75</td>\n",
       "      <td>193.131148</td>\n",
       "      <td>216</td>\n",
       "      <td>-22.868852</td>\n",
       "      <td>0.34</td>\n",
       "    </tr>\n",
       "    <tr>\n",
       "      <th>19</th>\n",
       "      <td>14.75</td>\n",
       "      <td>14.89</td>\n",
       "      <td>187.619048</td>\n",
       "      <td>232</td>\n",
       "      <td>-44.380952</td>\n",
       "      <td>0.14</td>\n",
       "    </tr>\n",
       "    <tr>\n",
       "      <th>20</th>\n",
       "      <td>14.89</td>\n",
       "      <td>16.50</td>\n",
       "      <td>192.869565</td>\n",
       "      <td>219</td>\n",
       "      <td>-26.130435</td>\n",
       "      <td>1.61</td>\n",
       "    </tr>\n",
       "    <tr>\n",
       "      <th>21</th>\n",
       "      <td>16.50</td>\n",
       "      <td>16.94</td>\n",
       "      <td>185.957746</td>\n",
       "      <td>170</td>\n",
       "      <td>15.957746</td>\n",
       "      <td>0.44</td>\n",
       "    </tr>\n",
       "    <tr>\n",
       "      <th>22</th>\n",
       "      <td>16.94</td>\n",
       "      <td>17.30</td>\n",
       "      <td>199.652174</td>\n",
       "      <td>218</td>\n",
       "      <td>-18.347826</td>\n",
       "      <td>0.36</td>\n",
       "    </tr>\n",
       "    <tr>\n",
       "      <th>23</th>\n",
       "      <td>17.30</td>\n",
       "      <td>17.92</td>\n",
       "      <td>193.120879</td>\n",
       "      <td>195</td>\n",
       "      <td>-1.879121</td>\n",
       "      <td>0.62</td>\n",
       "    </tr>\n",
       "    <tr>\n",
       "      <th>24</th>\n",
       "      <td>17.92</td>\n",
       "      <td>18.09</td>\n",
       "      <td>191.031250</td>\n",
       "      <td>179</td>\n",
       "      <td>12.031250</td>\n",
       "      <td>0.17</td>\n",
       "    </tr>\n",
       "    <tr>\n",
       "      <th>25</th>\n",
       "      <td>18.09</td>\n",
       "      <td>18.52</td>\n",
       "      <td>177.971429</td>\n",
       "      <td>111</td>\n",
       "      <td>66.971429</td>\n",
       "      <td>0.43</td>\n",
       "    </tr>\n",
       "    <tr>\n",
       "      <th>26</th>\n",
       "      <td>18.52</td>\n",
       "      <td>19.46</td>\n",
       "      <td>187.710526</td>\n",
       "      <td>224</td>\n",
       "      <td>-36.289474</td>\n",
       "      <td>0.94</td>\n",
       "    </tr>\n",
       "    <tr>\n",
       "      <th>27</th>\n",
       "      <td>19.46</td>\n",
       "      <td>19.83</td>\n",
       "      <td>173.235294</td>\n",
       "      <td>186</td>\n",
       "      <td>-12.764706</td>\n",
       "      <td>0.37</td>\n",
       "    </tr>\n",
       "    <tr>\n",
       "      <th>28</th>\n",
       "      <td>19.83</td>\n",
       "      <td>20.98</td>\n",
       "      <td>196.469083</td>\n",
       "      <td>235</td>\n",
       "      <td>-38.530917</td>\n",
       "      <td>1.15</td>\n",
       "    </tr>\n",
       "    <tr>\n",
       "      <th>29</th>\n",
       "      <td>20.98</td>\n",
       "      <td>21.16</td>\n",
       "      <td>199.589041</td>\n",
       "      <td>211</td>\n",
       "      <td>-11.410959</td>\n",
       "      <td>0.18</td>\n",
       "    </tr>\n",
       "    <tr>\n",
       "      <th>30</th>\n",
       "      <td>21.16</td>\n",
       "      <td>21.36</td>\n",
       "      <td>193.071429</td>\n",
       "      <td>160</td>\n",
       "      <td>33.071429</td>\n",
       "      <td>0.20</td>\n",
       "    </tr>\n",
       "    <tr>\n",
       "      <th>31</th>\n",
       "      <td>21.36</td>\n",
       "      <td>22.44</td>\n",
       "      <td>169.862069</td>\n",
       "      <td>0</td>\n",
       "      <td>169.862069</td>\n",
       "      <td>1.08</td>\n",
       "    </tr>\n",
       "    <tr>\n",
       "      <th>32</th>\n",
       "      <td>22.44</td>\n",
       "      <td>22.60</td>\n",
       "      <td>166.857143</td>\n",
       "      <td>211</td>\n",
       "      <td>-44.142857</td>\n",
       "      <td>0.16</td>\n",
       "    </tr>\n",
       "    <tr>\n",
       "      <th>33</th>\n",
       "      <td>22.60</td>\n",
       "      <td>23.37</td>\n",
       "      <td>158.888889</td>\n",
       "      <td>30</td>\n",
       "      <td>128.888889</td>\n",
       "      <td>0.77</td>\n",
       "    </tr>\n",
       "    <tr>\n",
       "      <th>34</th>\n",
       "      <td>23.37</td>\n",
       "      <td>23.84</td>\n",
       "      <td>159.480000</td>\n",
       "      <td>127</td>\n",
       "      <td>32.480000</td>\n",
       "      <td>0.47</td>\n",
       "    </tr>\n",
       "    <tr>\n",
       "      <th>35</th>\n",
       "      <td>23.84</td>\n",
       "      <td>24.33</td>\n",
       "      <td>149.481481</td>\n",
       "      <td>0</td>\n",
       "      <td>149.481481</td>\n",
       "      <td>0.49</td>\n",
       "    </tr>\n",
       "    <tr>\n",
       "      <th>36</th>\n",
       "      <td>24.33</td>\n",
       "      <td>24.63</td>\n",
       "      <td>211.411765</td>\n",
       "      <td>226</td>\n",
       "      <td>-14.588235</td>\n",
       "      <td>0.30</td>\n",
       "    </tr>\n",
       "    <tr>\n",
       "      <th>37</th>\n",
       "      <td>24.63</td>\n",
       "      <td>25.03</td>\n",
       "      <td>206.975610</td>\n",
       "      <td>0</td>\n",
       "      <td>206.975610</td>\n",
       "      <td>0.40</td>\n",
       "    </tr>\n",
       "    <tr>\n",
       "      <th>38</th>\n",
       "      <td>25.03</td>\n",
       "      <td>26.31</td>\n",
       "      <td>157.641791</td>\n",
       "      <td>105</td>\n",
       "      <td>52.641791</td>\n",
       "      <td>1.28</td>\n",
       "    </tr>\n",
       "    <tr>\n",
       "      <th>39</th>\n",
       "      <td>26.31</td>\n",
       "      <td>26.62</td>\n",
       "      <td>190.833333</td>\n",
       "      <td>227</td>\n",
       "      <td>-36.166667</td>\n",
       "      <td>0.31</td>\n",
       "    </tr>\n",
       "    <tr>\n",
       "      <th>40</th>\n",
       "      <td>26.62</td>\n",
       "      <td>26.73</td>\n",
       "      <td>214.333333</td>\n",
       "      <td>114</td>\n",
       "      <td>100.333333</td>\n",
       "      <td>0.11</td>\n",
       "    </tr>\n",
       "    <tr>\n",
       "      <th>41</th>\n",
       "      <td>26.73</td>\n",
       "      <td>27.10</td>\n",
       "      <td>164.120000</td>\n",
       "      <td>4</td>\n",
       "      <td>160.120000</td>\n",
       "      <td>0.37</td>\n",
       "    </tr>\n",
       "    <tr>\n",
       "      <th>42</th>\n",
       "      <td>27.10</td>\n",
       "      <td>27.73</td>\n",
       "      <td>167.500000</td>\n",
       "      <td>142</td>\n",
       "      <td>25.500000</td>\n",
       "      <td>0.63</td>\n",
       "    </tr>\n",
       "    <tr>\n",
       "      <th>43</th>\n",
       "      <td>27.73</td>\n",
       "      <td>28.44</td>\n",
       "      <td>170.674419</td>\n",
       "      <td>106</td>\n",
       "      <td>64.674419</td>\n",
       "      <td>0.71</td>\n",
       "    </tr>\n",
       "    <tr>\n",
       "      <th>44</th>\n",
       "      <td>28.44</td>\n",
       "      <td>29.58</td>\n",
       "      <td>185.104167</td>\n",
       "      <td>169</td>\n",
       "      <td>16.104167</td>\n",
       "      <td>1.14</td>\n",
       "    </tr>\n",
       "    <tr>\n",
       "      <th>45</th>\n",
       "      <td>29.58</td>\n",
       "      <td>31.16</td>\n",
       "      <td>187.127072</td>\n",
       "      <td>186</td>\n",
       "      <td>1.127072</td>\n",
       "      <td>1.58</td>\n",
       "    </tr>\n",
       "    <tr>\n",
       "      <th>46</th>\n",
       "      <td>31.16</td>\n",
       "      <td>31.34</td>\n",
       "      <td>181.761905</td>\n",
       "      <td>216</td>\n",
       "      <td>-34.238095</td>\n",
       "      <td>0.18</td>\n",
       "    </tr>\n",
       "    <tr>\n",
       "      <th>47</th>\n",
       "      <td>31.34</td>\n",
       "      <td>32.59</td>\n",
       "      <td>170.291667</td>\n",
       "      <td>156</td>\n",
       "      <td>14.291667</td>\n",
       "      <td>1.25</td>\n",
       "    </tr>\n",
       "    <tr>\n",
       "      <th>48</th>\n",
       "      <td>32.59</td>\n",
       "      <td>33.33</td>\n",
       "      <td>178.769231</td>\n",
       "      <td>180</td>\n",
       "      <td>-1.230769</td>\n",
       "      <td>0.74</td>\n",
       "    </tr>\n",
       "    <tr>\n",
       "      <th>49</th>\n",
       "      <td>33.33</td>\n",
       "      <td>34.07</td>\n",
       "      <td>179.827957</td>\n",
       "      <td>193</td>\n",
       "      <td>-13.172043</td>\n",
       "      <td>0.74</td>\n",
       "    </tr>\n",
       "    <tr>\n",
       "      <th>50</th>\n",
       "      <td>34.07</td>\n",
       "      <td>36.63</td>\n",
       "      <td>171.355805</td>\n",
       "      <td>174</td>\n",
       "      <td>-2.644195</td>\n",
       "      <td>2.56</td>\n",
       "    </tr>\n",
       "    <tr>\n",
       "      <th>51</th>\n",
       "      <td>36.63</td>\n",
       "      <td>36.89</td>\n",
       "      <td>168.592593</td>\n",
       "      <td>186</td>\n",
       "      <td>-17.407407</td>\n",
       "      <td>0.26</td>\n",
       "    </tr>\n",
       "    <tr>\n",
       "      <th>52</th>\n",
       "      <td>36.89</td>\n",
       "      <td>37.72</td>\n",
       "      <td>181.838926</td>\n",
       "      <td>216</td>\n",
       "      <td>-34.161074</td>\n",
       "      <td>0.83</td>\n",
       "    </tr>\n",
       "    <tr>\n",
       "      <th>53</th>\n",
       "      <td>37.72</td>\n",
       "      <td>38.80</td>\n",
       "      <td>172.000000</td>\n",
       "      <td>191</td>\n",
       "      <td>-19.000000</td>\n",
       "      <td>1.08</td>\n",
       "    </tr>\n",
       "    <tr>\n",
       "      <th>54</th>\n",
       "      <td>38.80</td>\n",
       "      <td>40.47</td>\n",
       "      <td>178.429936</td>\n",
       "      <td>214</td>\n",
       "      <td>-35.570064</td>\n",
       "      <td>1.67</td>\n",
       "    </tr>\n",
       "    <tr>\n",
       "      <th>55</th>\n",
       "      <td>40.47</td>\n",
       "      <td>42.60</td>\n",
       "      <td>172.409756</td>\n",
       "      <td>135</td>\n",
       "      <td>37.409756</td>\n",
       "      <td>2.13</td>\n",
       "    </tr>\n",
       "    <tr>\n",
       "      <th>56</th>\n",
       "      <td>42.60</td>\n",
       "      <td>43.62</td>\n",
       "      <td>164.564706</td>\n",
       "      <td>161</td>\n",
       "      <td>3.564706</td>\n",
       "      <td>1.02</td>\n",
       "    </tr>\n",
       "    <tr>\n",
       "      <th>57</th>\n",
       "      <td>43.62</td>\n",
       "      <td>44.32</td>\n",
       "      <td>162.250000</td>\n",
       "      <td>125</td>\n",
       "      <td>37.250000</td>\n",
       "      <td>0.70</td>\n",
       "    </tr>\n",
       "    <tr>\n",
       "      <th>58</th>\n",
       "      <td>44.32</td>\n",
       "      <td>46.90</td>\n",
       "      <td>162.925926</td>\n",
       "      <td>176</td>\n",
       "      <td>-13.074074</td>\n",
       "      <td>2.58</td>\n",
       "    </tr>\n",
       "    <tr>\n",
       "      <th>59</th>\n",
       "      <td>46.90</td>\n",
       "      <td>47.75</td>\n",
       "      <td>198.623377</td>\n",
       "      <td>160</td>\n",
       "      <td>38.623377</td>\n",
       "      <td>0.85</td>\n",
       "    </tr>\n",
       "  </tbody>\n",
       "</table>\n",
       "</div>"
      ],
      "text/plain": [
       "    start    end  power_actual  power_plan        diff  interval\n",
       "0    0.00   0.93    183.268817         183    0.268817      0.93\n",
       "1    0.93   1.31    209.391304         228  -18.608696      0.38\n",
       "2    1.31   1.82    204.050505         216  -11.949495      0.51\n",
       "3    1.82   2.34    174.191489         166    8.191489      0.52\n",
       "4    2.34   2.97    172.142857         154   18.142857      0.63\n",
       "5    2.97   3.28    195.551724         195    0.551724      0.31\n",
       "6    3.28   3.89    163.333333         142   21.333333      0.61\n",
       "7    3.89   4.38    161.551724         131   30.551724      0.49\n",
       "8    4.38   4.90    180.609756         167   13.609756      0.52\n",
       "9    4.90   5.16    203.074074         231  -27.925926      0.26\n",
       "10   5.16   8.08    190.132075         167   23.132075      2.92\n",
       "11   8.08   9.23    177.019802         175    2.019802      1.15\n",
       "12   9.23   9.47    192.117647         220  -27.882353      0.24\n",
       "13   9.47  10.06    202.893939         176   26.893939      0.59\n",
       "14  10.06  10.65    217.178295         227   -9.821705      0.59\n",
       "15  10.65  11.83    207.920792         208   -0.079208      1.18\n",
       "16  11.83  14.07    208.710084         222  -13.289916      2.24\n",
       "17  14.07  14.41    190.000000         184    6.000000      0.34\n",
       "18  14.41  14.75    193.131148         216  -22.868852      0.34\n",
       "19  14.75  14.89    187.619048         232  -44.380952      0.14\n",
       "20  14.89  16.50    192.869565         219  -26.130435      1.61\n",
       "21  16.50  16.94    185.957746         170   15.957746      0.44\n",
       "22  16.94  17.30    199.652174         218  -18.347826      0.36\n",
       "23  17.30  17.92    193.120879         195   -1.879121      0.62\n",
       "24  17.92  18.09    191.031250         179   12.031250      0.17\n",
       "25  18.09  18.52    177.971429         111   66.971429      0.43\n",
       "26  18.52  19.46    187.710526         224  -36.289474      0.94\n",
       "27  19.46  19.83    173.235294         186  -12.764706      0.37\n",
       "28  19.83  20.98    196.469083         235  -38.530917      1.15\n",
       "29  20.98  21.16    199.589041         211  -11.410959      0.18\n",
       "30  21.16  21.36    193.071429         160   33.071429      0.20\n",
       "31  21.36  22.44    169.862069           0  169.862069      1.08\n",
       "32  22.44  22.60    166.857143         211  -44.142857      0.16\n",
       "33  22.60  23.37    158.888889          30  128.888889      0.77\n",
       "34  23.37  23.84    159.480000         127   32.480000      0.47\n",
       "35  23.84  24.33    149.481481           0  149.481481      0.49\n",
       "36  24.33  24.63    211.411765         226  -14.588235      0.30\n",
       "37  24.63  25.03    206.975610           0  206.975610      0.40\n",
       "38  25.03  26.31    157.641791         105   52.641791      1.28\n",
       "39  26.31  26.62    190.833333         227  -36.166667      0.31\n",
       "40  26.62  26.73    214.333333         114  100.333333      0.11\n",
       "41  26.73  27.10    164.120000           4  160.120000      0.37\n",
       "42  27.10  27.73    167.500000         142   25.500000      0.63\n",
       "43  27.73  28.44    170.674419         106   64.674419      0.71\n",
       "44  28.44  29.58    185.104167         169   16.104167      1.14\n",
       "45  29.58  31.16    187.127072         186    1.127072      1.58\n",
       "46  31.16  31.34    181.761905         216  -34.238095      0.18\n",
       "47  31.34  32.59    170.291667         156   14.291667      1.25\n",
       "48  32.59  33.33    178.769231         180   -1.230769      0.74\n",
       "49  33.33  34.07    179.827957         193  -13.172043      0.74\n",
       "50  34.07  36.63    171.355805         174   -2.644195      2.56\n",
       "51  36.63  36.89    168.592593         186  -17.407407      0.26\n",
       "52  36.89  37.72    181.838926         216  -34.161074      0.83\n",
       "53  37.72  38.80    172.000000         191  -19.000000      1.08\n",
       "54  38.80  40.47    178.429936         214  -35.570064      1.67\n",
       "55  40.47  42.60    172.409756         135   37.409756      2.13\n",
       "56  42.60  43.62    164.564706         161    3.564706      1.02\n",
       "57  43.62  44.32    162.250000         125   37.250000      0.70\n",
       "58  44.32  46.90    162.925926         176  -13.074074      2.58\n",
       "59  46.90  47.75    198.623377         160   38.623377      0.85"
      ]
     },
     "execution_count": 26,
     "metadata": {},
     "output_type": "execute_result"
    }
   ],
   "source": [
    "result"
   ]
  },
  {
   "cell_type": "code",
   "execution_count": 27,
   "id": "superb-gibson",
   "metadata": {},
   "outputs": [
    {
     "data": {
      "image/png": "[encoded data removed]",
      "text/plain": [
       "<Figure size 792x432 with 2 Axes>"
      ]
     },
     "metadata": {
      "needs_background": "light"
     },
     "output_type": "display_data"
    }
   ],
   "source": [
    "import matplotlib.ticker as ticker\n",
    "\n",
    "fig, ax1 = plt.subplots(constrained_layout=True)\n",
    "ax1.plot(race['distance'],race['altitude'],label='Altitute')\n",
    "ax2 = ax1.twinx()\n",
    "ax2.bar(result['start'], result['diff']\n",
    "            ,color=(result['diff'] > 0).map({True: 'g',False: 'r'}),alpha=0.2\n",
    "            ,width=result['interval']\n",
    "            ,label='Diff in Power'\n",
    "           )\n",
    "ax1.set_ylabel('Altitude')\n",
    "ax2.set_ylabel('Power')\n",
    "\n",
    "plt.show()"
   ]
  },
  {
   "cell_type": "code",
   "execution_count": 28,
   "id": "absolute-petroleum",
   "metadata": {},
   "outputs": [
    {
     "data": {
      "text/plain": [
       "20.984143608108905"
      ]
     },
     "execution_count": 28,
     "metadata": {},
     "output_type": "execute_result"
    }
   ],
   "source": [
    "np.average(result[result['diff'] < 0]['diff']*-1)"
   ]
  },
  {
   "cell_type": "code",
   "execution_count": 29,
   "id": "intermediate-rachel",
   "metadata": {},
   "outputs": [
    {
     "data": {
      "text/plain": [
       "<AxesSubplot:xlabel='distance'>"
      ]
     },
     "execution_count": 29,
     "metadata": {},
     "output_type": "execute_result"
    },
    {
     "data": {
      "image/png": "[encoded data removed]",
      "text/plain": [
       "<Figure size 792x432 with 1 Axes>"
      ]
     },
     "metadata": {
      "needs_background": "light"
     },
     "output_type": "display_data"
    }
   ],
   "source": [
    "race[(race['altitude'] <= 30) & (race['distance']>30)].plot('distance','altitude')"
   ]
  },
  {
   "cell_type": "code",
   "execution_count": 30,
   "id": "ecological-boards",
   "metadata": {},
   "outputs": [
    {
     "data": {
      "text/plain": [
       "(30.000109999999996, 37.47606)"
      ]
     },
     "execution_count": 30,
     "metadata": {},
     "output_type": "execute_result"
    }
   ],
   "source": [
    "flat1 = race[(race['altitude'] <= 30) & (race['distance'] < 40) & (race['distance']>30)]\n",
    "min(flat1['distance']), max(flat1['distance'])"
   ]
  },
  {
   "cell_type": "code",
   "execution_count": 31,
   "id": "organized-establishment",
   "metadata": {},
   "outputs": [
    {
     "data": {
      "text/plain": [
       "(44.222899999999996, 47.75)"
      ]
     },
     "execution_count": 31,
     "metadata": {},
     "output_type": "execute_result"
    }
   ],
   "source": [
    "flat2 = race[(race['altitude'] <= 30) & (race['distance'] > 40)]\n",
    "min(flat2['distance']), max(flat2['distance'])"
   ]
  },
  {
   "cell_type": "code",
   "execution_count": 32,
   "id": "female-calendar",
   "metadata": {},
   "outputs": [
    {
     "data": {
      "text/plain": [
       "9.066807162818705"
      ]
     },
     "execution_count": 32,
     "metadata": {},
     "output_type": "execute_result"
    }
   ],
   "source": [
    "flat1min = min(flat1['distance'])\n",
    "flat1max = max(flat1['distance'])\n",
    "\n",
    "np.average(result[(result['start'] >= flat1min) & (result['end'] < flat1max)]['diff']*-1)"
   ]
  },
  {
   "cell_type": "code",
   "execution_count": 33,
   "id": "inside-portal",
   "metadata": {},
   "outputs": [
    {
     "data": {
      "text/plain": [
       "13.074074074074076"
      ]
     },
     "execution_count": 33,
     "metadata": {},
     "output_type": "execute_result"
    }
   ],
   "source": [
    "flat2min = min(flat2['distance'])\n",
    "flat2max = max(flat2['distance'])\n",
    "\n",
    "np.average(result[(result['start'] >= flat2min) & (result['end'] < flat2max)]['diff']*-1)"
   ]
  }
 ],
 "metadata": {
  "kernelspec": {
   "display_name": "Python 3",
   "language": "python",
   "name": "python3"
  },
  "language_info": {
   "codemirror_mode": {
    "name": "ipython",
    "version": 3
   },
   "file_extension": ".py",
   "mimetype": "text/x-python",
   "name": "python",
   "nbconvert_exporter": "python",
   "pygments_lexer": "ipython3",
   "version": "3.8.6"
  }
 },
 "nbformat": 4,
 "nbformat_minor": 5
}
